{
  "cells": [
    {
      "cell_type": "markdown",
      "metadata": {
        "id": "view-in-github",
        "colab_type": "text"
      },
      "source": [
        "<a href=\"https://colab.research.google.com/github/mcgrpb9/Calculater-Assignment/blob/main/tax_calculation.ipynb\" target=\"_parent\"><img src=\"https://colab.research.google.com/assets/colab-badge.svg\" alt=\"Open In Colab\"/></a>"
      ]
    },
    {
      "cell_type": "markdown",
      "metadata": {
        "id": "bVMwNyExqHgH"
      },
      "source": [
        "# Tax Calculation\n",
        "\n",
        "Write a program the prompts the user for their income and calculates the \n",
        "tax payable based on the Australian Tax Office [Resident tax rates 2021–22\n",
        "Taxable income](https://www.ato.gov.au/rates/individual-income-tax-rates/)\n",
        "\n",
        "Income            | Tax on this income \n",
        "------------------|----------------------\n",
        "0 – \\$18,200       | Nil\n",
        "\\$18,201 – \\$45,000 | 19 cents for each \\$1 over \\$18,200\n",
        "\\$45,001 – \\$120,000 | \\$5,092 plus 32.5 cents for each \\$1 over \\$45,000\n",
        "\\$120,001 – \\$180,000 |  \\$29,467 plus 37 cents for each \\$1 over \\$120,000\n",
        "\\$180,001 and over | \\$51,667 plus 45 cents for each \\$1 over \\$180,000\n",
        "\n",
        "## Task 0 - Import notebook to GitHub\n",
        "\n",
        "First, import the notebook into Colab and save an initial copy to GitHub."
      ]
    },
    {
      "cell_type": "markdown",
      "metadata": {
        "id": "GQPi2a6VI0rf"
      },
      "source": [
        "## Task 1 - Complete Tax Payable Function\n",
        "\n",
        "When you apply the 5-step process you will end up with an algorithm. Here \n",
        "is a very simple algorithm to solve our simple program.  We often call this\n",
        "a high level overview of the problem.  We now know enough about computers and \n",
        "programming now to understand that these high level steps will need to be split \n",
        "into small steps that a computer can implement.  but these high level steps make\n",
        "good candidates for functions.  \n",
        "\n",
        "For our tax calculation problem, if we had functions to perform the following \n",
        "steps, would this solve out problem?  If not what steps would you add?\n",
        "\n",
        "1. Get the income\n",
        "2. Calculate the tax payable\n",
        "3. Output tax payable"
      ]
    },
    {
      "cell_type": "code",
      "execution_count": null,
      "metadata": {
        "id": "AuzMU2B7J-q4"
      },
      "outputs": [],
      "source": [
        "#Get Income Function\n",
        "def get_income():\n",
        "  '''\n",
        "  This function will prompt the user for the income\n",
        "  and return the value\n",
        "  '''\n",
        "  income = int(input(\"What is your income for the year? \"))\n",
        "  print(\"Your income is \" ,income)\n",
        "  return income\n",
        "\n"
      ]
    },
    {
      "cell_type": "markdown",
      "metadata": {
        "id": "6LaQogXuHy6J"
      },
      "source": [
        "Using the Residents tax rate table, complete the following function"
      ]
    },
    {
      "cell_type": "code",
      "execution_count": null,
      "metadata": {
        "id": "bIGrqfz_Mbt8"
      },
      "outputs": [],
      "source": [
        "# Calculate_Tax Function\n",
        "tax_payable = 0\n",
        "def calculate_tax(income):\n",
        "  if income <= 18200:\n",
        "    global tax_payable\n",
        "  elif 18201 <= income <= 45000:\n",
        "    tax_payable = 0.19 * (income - 18200)\n",
        "  elif 45001 <= income <= 120000:\n",
        "    tax_payable = 5092 + 0.32 * (income - 45000)\n",
        "  elif 120001 <= income <= 180000:\n",
        "    tax_payable = 29467 + 0.37 * (income - 120000)\n",
        "  elif 180001 <= income: \n",
        "    tax_payable = 51667 + 0.45 * (income - 180000) \n",
        "\n",
        "  return tax_payable\n"
      ]
    },
    {
      "cell_type": "markdown",
      "metadata": {
        "id": "ysKHbCwsHy6K"
      },
      "source": [
        "## Task 2 - Complete the program"
      ]
    },
    {
      "cell_type": "code",
      "execution_count": null,
      "metadata": {
        "id": "pd8m2I1uMuAu",
        "colab": {
          "base_uri": "https://localhost:8080/"
        },
        "outputId": "6c1362da-58f2-4d21-91f2-fe968b5f8b68"
      },
      "outputs": [
        {
          "output_type": "stream",
          "name": "stdout",
          "text": [
            "What is your income for the year? 190000\n",
            "Your income is  190000\n",
            "The tax payable is 56167.0\n"
          ]
        }
      ],
      "source": [
        "# 'Main line'\n",
        "\n",
        "# Step 1 - Get the income\n",
        "income = get_income()\n",
        "\n",
        "\n",
        "# Step 2 - Calculate the tax\n",
        "tax_payable = calculate_tax(income)\n",
        "\n",
        "\n",
        "# Step 3 - Output tax payable\n",
        "print('The tax payable is', tax_payable)\n"
      ]
    },
    {
      "cell_type": "markdown",
      "metadata": {
        "id": "_zlK8xPhHy6L"
      },
      "source": [
        "## Task 3 (Optional) - Payslip\n",
        "\n",
        "How could you use these functions with the payslip notebook?\n"
      ]
    },
    {
      "cell_type": "code",
      "source": [
        "#Prompt user for input values\n",
        "prompt1 = 'What is your salary? '\n",
        "\n",
        "salary = int(input(prompt1))\n",
        "\n",
        "prompt2 = 'What is your total sales? '\n",
        "\n",
        "sales = int(input(prompt2))\n",
        "\n",
        "prompt3 = 'What is your Commission Rate? '\n",
        "\n",
        "commissionRate = float(input(prompt3))\n",
        "\n",
        "prompt4 = 'What is your name? '\n",
        "\n",
        "name = (input(prompt4))\n",
        "\n",
        "# Payslip Function\n",
        "def payslip (salary, sales, commissionRate, name): \n",
        " commission = (commissionRate/100) * sales\n",
        " income = salary + commission \n",
        " print('Payslip of ', name)\n",
        " print('Salary', salary,'Commission',commission)\n",
        " print('Total pay',income)\n",
        " return(income)\n",
        " \n",
        "tax_payable = 0\n",
        "def calculate_tax(income):\n",
        "  if income <= 18200:\n",
        "    global tax_payable\n",
        "  elif 18201 <= income <= 45000:\n",
        "    tax_payable = 0.19 * (income - 18200)\n",
        "  elif 45001 <= income <= 120000:\n",
        "    tax_payable = 5092 + 0.32 * (income - 45000)\n",
        "  elif 120001 <= income <= 180000:\n",
        "    tax_payable = 29467 + 0.37 * (income - 120000)\n",
        "  elif 180001 <= income: \n",
        "    tax_payable = 51667 + 0.45 * (income - 180000) \n",
        "\n",
        "  return tax_payable\n",
        " \n",
        "# Step 1 - Calculate the tax\n",
        "tax_payable = calculate_tax(income)\n",
        "\n",
        "# Step 2 - Output tax payable\n",
        "print('The tax payable is', tax_payable)\n"
      ],
      "metadata": {
        "colab": {
          "base_uri": "https://localhost:8080/"
        },
        "id": "n3uugqZ0O_x3",
        "outputId": "753cfe97-0d10-47dd-90f9-8a97bed8901a"
      },
      "execution_count": null,
      "outputs": [
        {
          "output_type": "stream",
          "name": "stdout",
          "text": [
            "What is your salary? 200000\n",
            "What is your total sales? 5000\n",
            "What is your Commission Rate? 2.5\n",
            "What is your name? Patrick\n",
            "The tax payable is 56167.0\n"
          ]
        }
      ]
    }
  ],
  "metadata": {
    "colab": {
      "name": "tax_calculation.ipynb",
      "provenance": [],
      "collapsed_sections": [],
      "include_colab_link": true
    },
    "kernelspec": {
      "display_name": "Python 3",
      "language": "python",
      "name": "python3"
    },
    "language_info": {
      "codemirror_mode": {
        "name": "ipython",
        "version": 3
      },
      "file_extension": ".py",
      "mimetype": "text/x-python",
      "name": "python",
      "nbconvert_exporter": "python",
      "pygments_lexer": "ipython3",
      "version": "3.8.8"
    }
  },
  "nbformat": 4,
  "nbformat_minor": 0
}