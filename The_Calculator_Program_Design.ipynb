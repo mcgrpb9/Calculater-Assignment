{
  "nbformat": 4,
  "nbformat_minor": 0,
  "metadata": {
    "colab": {
      "name": "The_Calculator_Program_Design.ipynb",
      "provenance": [],
      "include_colab_link": true
    },
    "kernelspec": {
      "name": "python3",
      "display_name": "Python 3"
    },
    "language_info": {
      "name": "python"
    }
  },
  "cells": [
    {
      "cell_type": "markdown",
      "metadata": {
        "id": "view-in-github",
        "colab_type": "text"
      },
      "source": [
        "<a href=\"https://colab.research.google.com/github/mcgrpb9/Calculater-Assignment/blob/main/The_Calculator_Program_Design.ipynb\" target=\"_parent\"><img src=\"https://colab.research.google.com/assets/colab-badge.svg\" alt=\"Open In Colab\"/></a>"
      ]
    },
    {
      "cell_type": "markdown",
      "source": [
        "#The Calculator\n",
        "This notebook is an exercise in programming to help hone your skills through practice and repetition.\n",
        "\n",
        "## What are *our* Best Practices\n",
        "\n",
        "Here are the best practices we have been applying throughout the course.\n",
        "\n",
        "1. Use a code repository (*GitHub, small frequent commits*)\n",
        "2. Follow style guidelines (*PEP8*)\n",
        "3. Correct broken code immediately (*exception handling, input validation, testing*)\n",
        "4. Use the PyPI instead of doing it yourself (*search and import module*)\n",
        "5. Use the Right Data Types and Structures (*int, float, list, etc. *)\n",
        "6. Write Readable Code (*meaningful names and comments*)\n",
        "7. Create readable documentation (*Docstrings*)\n",
        "8. Use Virtual Environments (*Google VM instance, Binder*)\n",
        "9. Avoid anti-patterns (*be specific imports, exceptions etc. *)\n",
        "10. Follow *Zen of Python* (try *`import this`*)"
      ],
      "metadata": {
        "id": "in2iZP7A1rNP"
      }
    },
    {
      "cell_type": "markdown",
      "source": [
        "## The Challenge - Simple Calculator\n",
        "\n",
        "Write a program to prompt the user to select a mathematical operation and input two numbers. The program will then operate on the two numbers and output the result. The user will be able to continue performing operations on numbers or exit the program. The arithmetic operations include: \n",
        "* addition, \n",
        "* subtraction, \n",
        "* multiplication, and \n",
        "* division. \n",
        "\n",
        "Let's review the *Zen of Python*.  Run the following code cell"
      ],
      "metadata": {
        "id": "6McFoWcj2AUu"
      }
    },
    {
      "cell_type": "code",
      "execution_count": null,
      "metadata": {
        "id": "H_kOZrGM1e38",
        "colab": {
          "base_uri": "https://localhost:8080/"
        },
        "outputId": "eae24a2d-1173-457a-8354-28129fb57e80"
      },
      "outputs": [
        {
          "output_type": "stream",
          "name": "stdout",
          "text": [
            "The Zen of Python, by Tim Peters\n",
            "\n",
            "Beautiful is better than ugly.\n",
            "Explicit is better than implicit.\n",
            "Simple is better than complex.\n",
            "Complex is better than complicated.\n",
            "Flat is better than nested.\n",
            "Sparse is better than dense.\n",
            "Readability counts.\n",
            "Special cases aren't special enough to break the rules.\n",
            "Although practicality beats purity.\n",
            "Errors should never pass silently.\n",
            "Unless explicitly silenced.\n",
            "In the face of ambiguity, refuse the temptation to guess.\n",
            "There should be one-- and preferably only one --obvious way to do it.\n",
            "Although that way may not be obvious at first unless you're Dutch.\n",
            "Now is better than never.\n",
            "Although never is often better than *right* now.\n",
            "If the implementation is hard to explain, it's a bad idea.\n",
            "If the implementation is easy to explain, it may be a good idea.\n",
            "Namespaces are one honking great idea -- let's do more of those!\n"
          ]
        }
      ],
      "source": [
        "import this"
      ]
    },
    {
      "cell_type": "markdown",
      "source": [
        "# Step 0 - Create code repository\n",
        "\n",
        "All projects need a project folder. Use the code repository to store the project. Go to GitHub, create a new repository with a meaningful name, like calculator, and add a README. Adding a readme file will initialise the repository. Initialising is *critical* and will make it easy to add files later.\n",
        "\n",
        "This notebook assumes we use Google Colab as the Integrated Development Environment (IDE). For our workflow and easy integration with the IDE, tick the box \"Include a link to Colaboratory\".\n",
        "\n",
        "This notebook will have small and frequent commits (Best Practice #1). You can look at the history of the notebook to view the commits."
      ],
      "metadata": {
        "id": "JqQiweAm3ENv"
      }
    },
    {
      "cell_type": "markdown",
      "source": [
        "# Step 1 - State the problem clearly\n",
        "\n",
        "We are following 5 step methodology:\n",
        "1. State the problem clearly\n",
        "2. Describe the input and output information\n",
        "3. Work the problem by hand\n",
        "4. Develop an algorithm (and convert it to python) \n",
        "5. Test solution with a variety of data\n",
        "\n",
        "\n",
        "## The Approach/Design\n",
        "Ask for user for numbers first and what operation they want.\n",
        "3 inputs with decimal"
      ],
      "metadata": {
        "id": "Ogxm2XmL3ulZ"
      }
    },
    {
      "cell_type": "markdown",
      "source": [
        "#Step 2 - Describe inputs and outputs\n",
        "x = input(\"Enter first number: \")\n",
        "y = input(\"Enter Second number: \")\n",
        "These numbers can be added, subtracted, mulitiplied or divided\n"
      ],
      "metadata": {
        "id": "Oy2qLtkI33Wi"
      }
    },
    {
      "cell_type": "markdown",
      "source": [
        "# Step 3 - Work the problem by hand\n",
        "\n",
        "x = 5 y= 3\n",
        "\n",
        "5 + 3 = 8\n",
        "\n",
        "5 - 3 = 2\n",
        "\n",
        "5 x 3 = 15\n",
        "\n",
        "5 / 3 = 1.66"
      ],
      "metadata": {
        "id": "V1eEfzun4ErK"
      }
    },
    {
      "cell_type": "markdown",
      "source": [
        "# Step 4 - Develop an algorithm (and convert it to python)"
      ],
      "metadata": {
        "id": "J_kOUaGA4Hsa"
      }
    },
    {
      "cell_type": "markdown",
      "source": [
        "# This function adds two numbers\n",
        "def add(x, y):\n",
        "    return x + y\n",
        "\n",
        "# This function subtracts two numbers\n",
        "def subtract(x, y):\n",
        "    return x - y\n",
        "\n",
        "# This function multiplies two numbers\n",
        "def multiply(x, y):\n",
        "    return x * y\n",
        "\n",
        "# This function divides two numbers\n",
        "def divide(x, y):\n",
        "    return x / y"
      ],
      "metadata": {
        "id": "ayzEGCcCkVeg"
      }
    },
    {
      "cell_type": "markdown",
      "source": [
        "# Final Design\n",
        "\n",
        "**Module: Main Program**\n",
        "print(\"Select operation.\")\n",
        "print(\"1.Add\")\n",
        "print(\"2.Subtract\")\n",
        "print(\"3.Multiply\")\n",
        "print(\"4.Divide\")\n",
        "\n",
        "# take input from the user\n",
        "    choice = input(\"Enter choice(1/2/3/4): \")\n",
        "\n",
        "# check if choice is one of the four options\n",
        "    if choice in ('1', '2', '3', '4'):\n",
        "        num1 = float(input(\"Enter first number: \"))\n",
        "        num2 = float(input(\"Enter second number: \"))\n",
        "**Module:**\n",
        "def add(x, y):\n",
        "**Module:**\n",
        "def subtract(x, y):\n",
        "**Module:**\n",
        "def multiply(x, y):\n",
        "**Module:**\n",
        "def divide(x, y):\n",
        "\n",
        "\n",
        "\n"
      ],
      "metadata": {
        "id": "S7oj8cWz4Udi"
      }
    },
    {
      "cell_type": "markdown",
      "source": [
        "# take input from the user\n",
        "    choice = input(\"Enter choice(1/2/3/4): \")\n",
        "\n",
        "# check if choice is one of the four options\n",
        "    if choice in ('1', '2', '3', '4'):\n",
        "        num1 = float(input(\"Enter first number: \"))\n",
        "        num2 = float(input(\"Enter second number: \"))"
      ],
      "metadata": {
        "id": "kcSQzu_JlqMZ"
      }
    },
    {
      "cell_type": "code",
      "source": [
        ""
      ],
      "metadata": {
        "id": "JcGNTqkdMk6a"
      },
      "execution_count": null,
      "outputs": []
    },
    {
      "cell_type": "markdown",
      "source": [
        "# Convert to Python\n",
        "\n",
        "Convert the design to Pythin in another notebook\n",
        "\n",
        "**Converted to Python in notebook The Calculator_Program_Development**"
      ],
      "metadata": {
        "id": "9VFIwWNy4z9j"
      }
    },
    {
      "cell_type": "markdown",
      "source": [
        "# Step 5 - Test solution with a variety of data\n",
        "\n",
        "Output from testing in notebook The Calculator_Program_Development"
      ],
      "metadata": {
        "id": "QyOxJjqk4m9z"
      }
    }
  ]
}